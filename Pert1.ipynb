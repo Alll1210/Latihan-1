{
  "nbformat": 4,
  "nbformat_minor": 0,
  "metadata": {
    "colab": {
      "provenance": [],
      "authorship_tag": "ABX9TyMvZwDnHCpANs7/ndlIvv6d",
      "include_colab_link": true
    },
    "kernelspec": {
      "name": "python3",
      "display_name": "Python 3"
    },
    "language_info": {
      "name": "python"
    }
  },
  "cells": [
    {
      "cell_type": "markdown",
      "metadata": {
        "id": "view-in-github",
        "colab_type": "text"
      },
      "source": [
        "<a href=\"https://colab.research.google.com/github/Alll1210/Latihan-1/blob/master/Pert1.ipynb\" target=\"_parent\"><img src=\"https://colab.research.google.com/assets/colab-badge.svg\" alt=\"Open In Colab\"/></a>"
      ]
    },
    {
      "cell_type": "markdown",
      "source": [
        "# Latihan 1"
      ],
      "metadata": {
        "id": "iW9BWGRuxn8-"
      }
    },
    {
      "cell_type": "code",
      "execution_count": 11,
      "metadata": {
        "colab": {
          "base_uri": "https://localhost:8080/"
        },
        "id": "cPCra8FIbf6b",
        "outputId": "492fea4d-9d94-415d-d253-a435e27ed492"
      },
      "outputs": [
        {
          "output_type": "stream",
          "name": "stdout",
          "text": [
            "## Program Python Kalkulator Sederhana ##\n",
            "=========================================\n",
            "\n",
            "1. Penjumlahan\n",
            "2. Pengurangan\n",
            "3. Perkalian\n",
            "4. Pembagian\n",
            "5. Modulus\n",
            "\n",
            "Input Pilihan Operasi: 1\n",
            "Angka Pertama: 4.5555\n",
            "Angka Kedua: 2\n",
            "\n",
            "Hasil dari 4.5555 + 2.0 = 6.56\n"
          ]
        }
      ],
      "source": [
        "print('## Program Python Kalkulator Sederhana ##')\n",
        "print('=========================================')\n",
        "print()\n",
        "\n",
        "print('1. Penjumlahan')\n",
        "print('2. Pengurangan')\n",
        "print('3. Perkalian')\n",
        "print('4. Pembagian')\n",
        "print('5. Modulus')\n",
        "print()\n",
        "\n",
        "pilihan=int(input('Input Pilihan Operasi: '))\n",
        "num1=float(input('Angka Pertama: '))\n",
        "num2=float(input('Angka Kedua: '))\n",
        "print()\n",
        "\n",
        "if pilihan == 1:\n",
        "  print('Hasil dari',num1,'+',num2,'=',round(num1+num2,2))\n",
        "elif pilihan == 2:\n",
        "  print('Hasil dari',num1,'-',num2,'=',round(num1-num2,2))\n",
        "elif pilihan == 3:\n",
        "  print('Hasil dari',num1,'*',num2,'=',round(num1*num2,2))\n",
        "elif pilihan == 4:\n",
        "  print('Hasil dari',num1,'/',num2,'=',round(num1/num2,2))\n",
        "elif pilihan == 5:\n",
        "  print('Hasil dari',num1,'%',num2,'=',round(num1%num2,2))\n",
        "else:\n",
        "  print('Maaf, pilihan menu tidak tersedia')"
      ]
    },
    {
      "cell_type": "code",
      "source": [],
      "metadata": {
        "id": "bR7WnlKY1qe4"
      },
      "execution_count": null,
      "outputs": []
    }
  ]
}