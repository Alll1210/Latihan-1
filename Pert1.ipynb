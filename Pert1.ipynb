{
  "nbformat": 4,
  "nbformat_minor": 0,
  "metadata": {
    "colab": {
      "provenance": [],
      "authorship_tag": "ABX9TyPbOGMhhkWpm9ae1BFL3ejf",
      "include_colab_link": true
    },
    "kernelspec": {
      "name": "python3",
      "display_name": "Python 3"
    },
    "language_info": {
      "name": "python"
    }
  },
  "cells": [
    {
      "cell_type": "markdown",
      "metadata": {
        "id": "view-in-github",
        "colab_type": "text"
      },
      "source": [
        "<a href=\"https://colab.research.google.com/github/Alll1210/Latihan-1/blob/master/Pert1.ipynb\" target=\"_parent\"><img src=\"https://colab.research.google.com/assets/colab-badge.svg\" alt=\"Open In Colab\"/></a>"
      ]
    },
    {
      "cell_type": "markdown",
      "source": [
        "# Kalkulator Sederhana"
      ],
      "metadata": {
        "id": "iW9BWGRuxn8-"
      }
    },
    {
      "cell_type": "code",
      "execution_count": 14,
      "metadata": {
        "colab": {
          "base_uri": "https://localhost:8080/"
        },
        "id": "cPCra8FIbf6b",
        "outputId": "71e93775-0c0b-47dd-fa30-29a41cba5e6a"
      },
      "outputs": [
        {
          "output_type": "stream",
          "name": "stdout",
          "text": [
            "## Program Python Kalkulator Sederhana ##\n",
            "=========================================\n",
            "\n",
            "1. Penjumlahan\n",
            "2. Pengurangan\n",
            "3. Perkalian\n",
            "4. Pembagian\n",
            "5. Modulus\n",
            "\n",
            "Input Pilihan Operasi: 1\n",
            "Angka Pertama: 2\n",
            "Angka Kedua: 3\n",
            "\n",
            "Hasil dari 2.0 + 3.0 = 5.0\n"
          ]
        }
      ],
      "source": [
        "print('## Program Python Kalkulator Sederhana ##')\n",
        "print('=========================================')\n",
        "print()\n",
        "\n",
        "print('1. Penjumlahan')\n",
        "print('2. Pengurangan')\n",
        "print('3. Perkalian')\n",
        "print('4. Pembagian')\n",
        "print('5. Modulus')\n",
        "print()\n",
        "\n",
        "pilihan =int(input('Input Pilihan Operasi: '))\n",
        "num1=float(input('Angka Pertama: '))\n",
        "num2=float(input('Angka Kedua: '))\n",
        "print()\n",
        "\n",
        "if pilihan == 1:\n",
        "  print('Hasil dari',num1,'+',num2,'=',round(num1+num2,2))\n",
        "elif pilihan == 2:\n",
        "  print('Hasil dari',num1,'-',num2,'=',round(num1-num2,2))\n",
        "elif pilihan == 3:\n",
        "  print('Hasil dari',num1,'*',num2,'=',round(num1*num2,2))\n",
        "elif pilihan == 4:\n",
        "  print('Hasil dari',num1,'/',num2,'=',round(num1/num2,2))\n",
        "elif pilihan == 5:\n",
        "  print('Hasil dari',num1,'%',num2,'=',round(num1%num2,2))\n",
        "else:\n",
        "  print('Maaf, pilihan menu tidak tersedia')"
      ]
    },
    {
      "cell_type": "markdown",
      "source": [
        "# Kasir Sederhana"
      ],
      "metadata": {
        "id": "s01lfQo_A12o"
      }
    },
    {
      "cell_type": "code",
      "source": [
        "print('--------- Program Kasir Sederhana Kantin UHB ---------')\n",
        "pembeli = input('Masukkan nama pembeli: ')\n",
        "print('Nama Pembeli: ', pembeli)\n",
        "\n",
        "def fungsimakanan():\n",
        "  global totalmkn\n",
        "  global porsi\n",
        "  global mkn\n",
        "  print('\\n--------- Menu Makanan ---------')\n",
        "  print('1. Nasi Goreng - Rp. 15.000')\n",
        "  print('2. Soto - Rp. 9.000')\n",
        "  print('3. Mie Ayam - Rp. 11.000')\n",
        "  nomor=int(input('Masukkan Pilihan: '))\n",
        "  porsi=int(input('Banyak Porsi: '))\n",
        "\n",
        "  if nomor==1:\n",
        "    totalmkn=porsi*15000\n",
        "    print(porsi,'Porsi Nasi Goreng Telur = Rp.', totalmkn)\n",
        "    mkn=('Nasi Goreng')\n",
        "  elif nomor==2:\n",
        "    totalmkn=porsi*9000\n",
        "    print(porsi,'Porsi Soto = Rp.', totalmkn)\n",
        "    mkn=('Soto')\n",
        "  elif nomor==3:\n",
        "    totalmkn=porsi*11000\n",
        "    print(porsi,'Porsi Mie Ayam Pangsit = Rp.', totalmkn)\n",
        "    mkn=('Mie Ayam')\n",
        "  else:\n",
        "    print('Maaf, pilihan tidak tersedia. Silahkan pilihan kembali.')\n",
        "    fungsimakanan()\n",
        "\n",
        "def fungsiminuman():\n",
        "  global totalmnm\n",
        "  global mnm\n",
        "  global gelas\n",
        "  print('\\n--------- Menu Minuman ---------')\n",
        "  print('1. Es Teh - Rp. 2.000')\n",
        "  print('2. Es Jeruk - Rp. 3.500')\n",
        "  print('3. Es Kopi - Rp. 4.000')\n",
        "  nomor=int(input('Masukkan Pilihan: '))\n",
        "  gelas=int(input('Berapa Gelas: '))\n",
        "\n",
        "  if nomor==1:\n",
        "    totalmnm=gelas*2000\n",
        "    print(gelas,'Porsi Es Teh Telur = Rp.', totalmnm)\n",
        "    mnm=('Es Teh')\n",
        "  elif nomor==2:\n",
        "    totalmnm=gelas*3500\n",
        "    print(gelas,'Porsi Es Jeruk = Rp.', totalmnm)\n",
        "    mnm=('Es Jeruk')\n",
        "  elif nomor==3:\n",
        "    totalmnm=gelas*4000\n",
        "    print(gelas,'Porsi Es Kopi Pangsit = Rp.', totalmnm)\n",
        "    mnm=('Es Kopi')\n",
        "  else:\n",
        "    print('Maaf, pilihan tidak tersedia. Silahkan pilihan kembali.')\n",
        "    fungsiminuman()\n",
        "\n",
        "fungsimakanan()\n",
        "fungsiminuman()\n",
        "totalsemua=totalmkn+totalmnm\n",
        "\n",
        "print('\\nTotal Harus Dibayar: Rp.', totalsemua)\n",
        "uang=int(input('Uang Tunai Pembeli: Rp. '))\n",
        "kembalian=int(uang-totalsemua)\n",
        "print('Kembalian: Rp.', kembalian)\n",
        "\n",
        "print('\\n==========================================')\n",
        "print('\\n============== STRUK BELI ==============')\n",
        "print('Nama\\t\\t:', pembeli)\n",
        "print('Beli\\t\\t:', porsi,mkn,'(Rp.',totalmkn,')')\n",
        "print('\\t\\t:', gelas,mnm,'(Rp.',totalmnm,')')\n",
        "print('Tagihan\\t\\t: Rp.', totalsemua)\n",
        "print('Dibayar\\t\\t: Rp.', uang)\n",
        "print('Kembalian\\t\\t: Rp.', kembalian)\n",
        "print('==========================================')\n",
        "print('==========================================')"
      ],
      "metadata": {
        "colab": {
          "base_uri": "https://localhost:8080/"
        },
        "id": "bR7WnlKY1qe4",
        "outputId": "288f0036-0288-412c-aa1a-484a72a5d19a"
      },
      "execution_count": 19,
      "outputs": [
        {
          "output_type": "stream",
          "name": "stdout",
          "text": [
            "--------- Program Kasir Sederhana Kantin UHB ---------\n",
            "Masukkan nama pembeli: Aimar\n",
            "Nama Pembeli:  Aimar\n",
            "\n",
            "--------- Menu Makanan ---------\n",
            "1. Nasi Goreng - Rp. 15.000\n",
            "2. Soto - Rp. 9.000\n",
            "3. Mie Ayam - Rp. 11.000\n",
            "Masukkan Pilihan: 2\n",
            "Banyak Porsi: 3\n",
            "3 Porsi Soto = Rp. 27000\n",
            "\n",
            "--------- Menu Minuman ---------\n",
            "1. Es Teh - Rp. 2.000\n",
            "2. Es Jeruk - Rp. 3.500\n",
            "3. Es Kopi - Rp. 4.000\n",
            "Masukkan Pilihan: 2\n",
            "Berapa Gelas: 3\n",
            "3 Porsi Es Jeruk = Rp. 10500\n",
            "\n",
            "Total Harus Dibayar: Rp. 37500\n",
            "Uang Tunai Pembeli: Rp. 40000\n",
            "Kembalian: Rp. 2500\n",
            "\n",
            "========================\n",
            "\n",
            "======= STRUK BELI =======\n",
            "Nama\t\t: Aimar\n",
            "Beli\t\t: 3 Soto (Rp. 27000 )\n",
            "\t\t: 3 Es Jeruk (Rp. 10500 )\n",
            "Tagihan\t\t: Rp. 37500\n",
            "Dibayar\t\t: Rp. 40000\n",
            "Kembalian\t\t: Rp. 2500\n",
            "\n",
            "========================\n",
            "\n",
            "========================\n"
          ]
        }
      ]
    }
  ]
}